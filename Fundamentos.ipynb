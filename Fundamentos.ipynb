{
 "cells": [
  {
   "cell_type": "code",
   "execution_count": 9,
   "id": "9795ad48",
   "metadata": {},
   "outputs": [],
   "source": [
    "# Pyhton distingue entre mayusculas y minusculas "
   ]
  },
  {
   "cell_type": "code",
   "execution_count": 6,
   "id": "5b3441a6",
   "metadata": {},
   "outputs": [
    {
     "name": "stdout",
     "output_type": "stream",
     "text": [
      "El curso es: Backend Python\n"
     ]
    }
   ],
   "source": [
    "A=\"Backend Python\"\n",
    "print(\"El curso es:\",A)\n"
   ]
  },
  {
   "cell_type": "code",
   "execution_count": 7,
   "id": "03ef0b84",
   "metadata": {},
   "outputs": [
    {
     "ename": "SyntaxError",
     "evalue": "unterminated string literal (detected at line 1) (2066769048.py, line 1)",
     "output_type": "error",
     "traceback": [
      "\u001b[1;36m  Cell \u001b[1;32mIn[7], line 1\u001b[1;36m\u001b[0m\n\u001b[1;33m    help(\"keywords\u001b[0m\n\u001b[1;37m         ^\u001b[0m\n\u001b[1;31mSyntaxError\u001b[0m\u001b[1;31m:\u001b[0m unterminated string literal (detected at line 1)\n"
     ]
    }
   ],
   "source": [
    "help(\"keywords\n",
    "    \")"
   ]
  },
  {
   "cell_type": "code",
   "execution_count": 8,
   "id": "3cba8d1d",
   "metadata": {},
   "outputs": [
    {
     "name": "stdout",
     "output_type": "stream",
     "text": [
      "\n",
      "Here is a list of the Python keywords.  Enter any keyword to get more help.\n",
      "\n",
      "False               class               from                or\n",
      "None                continue            global              pass\n",
      "True                def                 if                  raise\n",
      "and                 del                 import              return\n",
      "as                  elif                in                  try\n",
      "assert              else                is                  while\n",
      "async               except              lambda              with\n",
      "await               finally             nonlocal            yield\n",
      "break               for                 not                 \n",
      "\n"
     ]
    }
   ],
   "source": [
    "help(\"keywords\")"
   ]
  },
  {
   "cell_type": "code",
   "execution_count": 10,
   "id": "4ed8e934",
   "metadata": {},
   "outputs": [
    {
     "data": {
      "text/plain": [
       "\"'\""
      ]
     },
     "execution_count": 10,
     "metadata": {},
     "output_type": "execute_result"
    }
   ],
   "source": [
    "\"\\'\""
   ]
  },
  {
   "cell_type": "code",
   "execution_count": 11,
   "id": "35890528",
   "metadata": {},
   "outputs": [
    {
     "data": {
      "text/plain": [
       "'\"'"
      ]
     },
     "execution_count": 11,
     "metadata": {},
     "output_type": "execute_result"
    }
   ],
   "source": [
    "'\\\"' #Double Quote"
   ]
  },
  {
   "cell_type": "code",
   "execution_count": 12,
   "id": "9294eb36",
   "metadata": {},
   "outputs": [
    {
     "data": {
      "text/plain": [
       "'\\n'"
      ]
     },
     "execution_count": 12,
     "metadata": {},
     "output_type": "execute_result"
    }
   ],
   "source": [
    "'\\n' #new line/Salto de linea "
   ]
  },
  {
   "cell_type": "code",
   "execution_count": 13,
   "id": "996ca2f2",
   "metadata": {},
   "outputs": [
    {
     "name": "stdout",
     "output_type": "stream",
     "text": [
      "Backen Pyhton \n",
      " De EBAC\n"
     ]
    }
   ],
   "source": [
    "my_course=\"Backend Pyhton \\n De EBAC\"\n",
    "print(my_course)"
   ]
  },
  {
   "cell_type": "code",
   "execution_count": 14,
   "id": "46fa2458",
   "metadata": {},
   "outputs": [
    {
     "data": {
      "text/plain": [
       "'\\t'"
      ]
     },
     "execution_count": 14,
     "metadata": {},
     "output_type": "execute_result"
    }
   ],
   "source": [
    "\"\\t\" # TAB"
   ]
  },
  {
   "cell_type": "code",
   "execution_count": 15,
   "id": "4e786d47",
   "metadata": {},
   "outputs": [
    {
     "name": "stdout",
     "output_type": "stream",
     "text": [
      "\tBacken Pyhton \n",
      " De EBAC\n"
     ]
    }
   ],
   "source": [
    "my_course=\"\\tBackend Pyhton \\n De EBAC\"\n",
    "print(my_course)"
   ]
  },
  {
   "cell_type": "code",
   "execution_count": 16,
   "id": "0aea9228",
   "metadata": {},
   "outputs": [
    {
     "data": {
      "text/plain": [
       "'\\r'"
      ]
     },
     "execution_count": 16,
     "metadata": {},
     "output_type": "execute_result"
    }
   ],
   "source": [
    " '\\r' # carriage return | Retorno de carro "
   ]
  },
  {
   "cell_type": "code",
   "execution_count": 17,
   "id": "89ec8eb5",
   "metadata": {},
   "outputs": [
    {
     "name": "stdout",
     "output_type": "stream",
     "text": [
      "Backen Pyhton\r\n",
      " De EBAC\n"
     ]
    }
   ],
   "source": [
    "my_course=\"Backend Pyhton\\r\\n De EBAC\"\n",
    "print(my_course)"
   ]
  },
  {
   "cell_type": "code",
   "execution_count": 18,
   "id": "3caf4596",
   "metadata": {},
   "outputs": [
    {
     "name": "stdout",
     "output_type": "stream",
     "text": [
      "Backen\r",
      " Pyhton \n",
      " De EBAC\n"
     ]
    }
   ],
   "source": [
    "my_course=\"Backend\\r Pyhton \\n De EBAC\"\n",
    "print(my_course)"
   ]
  },
  {
   "cell_type": "code",
   "execution_count": 19,
   "id": "78fd4d4e",
   "metadata": {},
   "outputs": [
    {
     "name": "stdout",
     "output_type": "stream",
     "text": [
      "Backen Pyhton \n",
      " De \r",
      "EBAC\n"
     ]
    }
   ],
   "source": [
    "my_course=\"Backend Pyhton \\n De \\rEBAC\"\n",
    "print(my_course)"
   ]
  },
  {
   "cell_type": "code",
   "execution_count": 20,
   "id": "42c3fa70",
   "metadata": {},
   "outputs": [
    {
     "data": {
      "text/plain": [
       "'\\x08'"
      ]
     },
     "execution_count": 20,
     "metadata": {},
     "output_type": "execute_result"
    }
   ],
   "source": [
    "'\\b' # Baackspace | Reotrno "
   ]
  },
  {
   "cell_type": "code",
   "execution_count": 21,
   "id": "327982ac",
   "metadata": {},
   "outputs": [
    {
     "name": "stdout",
     "output_type": "stream",
     "text": [
      "Backend\b Pyhton \n",
      " De EBAC\n"
     ]
    }
   ],
   "source": [
    "my_course=\"Backend\\b Pyhton \\n De EBAC\"\n",
    "print(my_course)"
   ]
  },
  {
   "cell_type": "code",
   "execution_count": 22,
   "id": "2ffbce44",
   "metadata": {},
   "outputs": [
    {
     "name": "stdout",
     "output_type": "stream",
     "text": [
      "Backen Pyhton \n",
      " De EBAC\b\n"
     ]
    }
   ],
   "source": [
    "my_course=\"Backen Pyhton \\n De EBAC\\b\"\n",
    "print(my_course)"
   ]
  },
  {
   "cell_type": "code",
   "execution_count": 23,
   "id": "0bc4b1cd",
   "metadata": {},
   "outputs": [
    {
     "data": {
      "text/plain": [
       "'\\\\ooo'"
      ]
     },
     "execution_count": 23,
     "metadata": {},
     "output_type": "execute_result"
    }
   ],
   "source": [
    "'\\ooo' #octal"
   ]
  },
  {
   "cell_type": "code",
   "execution_count": 24,
   "id": "3c327152",
   "metadata": {},
   "outputs": [
    {
     "ename": "NameError",
     "evalue": "name 'hello' is not defined",
     "output_type": "error",
     "traceback": [
      "\u001b[1;31m---------------------------------------------------------------------------\u001b[0m",
      "\u001b[1;31mNameError\u001b[0m                                 Traceback (most recent call last)",
      "Cell \u001b[1;32mIn[24], line 1\u001b[0m\n\u001b[1;32m----> 1\u001b[0m hello\n",
      "\u001b[1;31mNameError\u001b[0m: name 'hello' is not defined"
     ]
    }
   ],
   "source": [
    "hello"
   ]
  },
  {
   "cell_type": "code",
   "execution_count": null,
   "id": "7147a0cd",
   "metadata": {},
   "outputs": [],
   "source": []
  },
  {
   "cell_type": "code",
   "execution_count": 25,
   "id": "1234c7e5",
   "metadata": {},
   "outputs": [],
   "source": [
    "hello_spanish_octal= '\\110\\157\\154\\141'"
   ]
  },
  {
   "cell_type": "code",
   "execution_count": 26,
   "id": "ce138fcd",
   "metadata": {},
   "outputs": [
    {
     "name": "stdout",
     "output_type": "stream",
     "text": [
      "Hola\n"
     ]
    }
   ],
   "source": [
    "hello_spanish_octal= '\\110\\157\\154\\141'\n",
    "print(hello_spanish_octal)"
   ]
  },
  {
   "cell_type": "code",
   "execution_count": 27,
   "id": "90108880",
   "metadata": {},
   "outputs": [],
   "source": [
    "#'\\xhh' Hexadecimal"
   ]
  },
  {
   "cell_type": "code",
   "execution_count": 28,
   "id": "90ae1f4b",
   "metadata": {},
   "outputs": [
    {
     "name": "stdout",
     "output_type": "stream",
     "text": [
      "Hola\n"
     ]
    }
   ],
   "source": [
    "hello_spanish_hex= '\\x48\\x6f\\x6c\\x61'\n",
    "print(hello_spanish_hex)"
   ]
  },
  {
   "cell_type": "code",
   "execution_count": null,
   "id": "fc50a1d8",
   "metadata": {},
   "outputs": [],
   "source": []
  }
 ],
 "metadata": {
  "kernelspec": {
   "display_name": "Python 3 (ipykernel)",
   "language": "python",
   "name": "python3"
  },
  "language_info": {
   "codemirror_mode": {
    "name": "ipython",
    "version": 3
   },
   "file_extension": ".py",
   "mimetype": "text/x-python",
   "name": "python",
   "nbconvert_exporter": "python",
   "pygments_lexer": "ipython3",
   "version": "3.11.3"
  }
 },
 "nbformat": 4,
 "nbformat_minor": 5
}
